{
 "cells": [
  {
   "cell_type": "markdown",
   "metadata": {},
   "source": [
    "# 001 - Two sum\n",
    "\n",
    "Given a list of numbers and a number k, return whether any two numbers from the list add up to k.\n",
    "\n",
    "For example, given [10, 15, 3, 7] and k of 17, return true since 10 + 7 is 17.\n",
    "\n",
    "Bonus: Can you do this in one pass?\n",
    "\n",
    "(Leetcode - twosum problem )"
   ]
  },
  {
   "cell_type": "markdown",
   "metadata": {},
   "source": [
    "First we can try brute force method. based on above problem we need to go through each number in the list and compare with other numbers to ensure it's not adding upto K.\n",
    "\n",
    "10+15, 10+3, 10+7\n",
    "15+10, 15+3, 15+7 etc., \n",
    "\n",
    "if we use two for loops that will put us O(n^2).\n",
    "\n"
   ]
  },
  {
   "cell_type": "code",
   "execution_count": 1,
   "metadata": {},
   "outputs": [],
   "source": [
    "def problem_1_method_1(list_of_numbers, k):\n",
    "    \"\"\"\n",
    "        This method is O(n^2) and it's not good for large number of inputs\n",
    "    \"\"\"\n",
    "    for i in range(len(list_of_numbers)):\n",
    "        for j in range(len(list_of_numbers)):\n",
    "            if i != j and list_of_numbers[i]+list_of_numbers[j] == k:\n",
    "                return True\n",
    "    \n",
    "    return False"
   ]
  },
  {
   "cell_type": "markdown",
   "metadata": {},
   "source": [
    "Second method which can be done in one pass is create hash map to store the index and its value.\n",
    "then take the array element and check the difference between the target and the value. if the results present in the hash map then return the index of the both numb\n",
    "er other wise add it to the hasmap with new entry "
   ]
  },
  {
   "cell_type": "code",
   "execution_count": 9,
   "metadata": {},
   "outputs": [],
   "source": [
    "def problem_1_method_2(list_of_numbers, k):\n",
    "\n",
    "    visited = {} # Create a dictionary to store the visited numbers\n",
    "\n",
    "    for i, v in enumerate(list_of_numbers):\n",
    "        if k - v in visited:\n",
    "            return True\n",
    "        \n",
    "        visited[v] = i\n",
    "    \n",
    "    return False\n",
    "    \n",
    "\n",
    "    \n",
    "    \n",
    "    "
   ]
  },
  {
   "cell_type": "code",
   "execution_count": 5,
   "metadata": {},
   "outputs": [],
   "source": [
    "list_of_numbers = [10, 15, 3, 7]\n",
    "k = 16"
   ]
  },
  {
   "cell_type": "code",
   "execution_count": 6,
   "metadata": {},
   "outputs": [
    {
     "data": {
      "text/plain": [
       "False"
      ]
     },
     "execution_count": 6,
     "metadata": {},
     "output_type": "execute_result"
    }
   ],
   "source": [
    "problem_1_method_1(list_of_numbers, k)\n"
   ]
  },
  {
   "cell_type": "code",
   "execution_count": 10,
   "metadata": {},
   "outputs": [
    {
     "data": {
      "text/plain": [
       "False"
      ]
     },
     "execution_count": 10,
     "metadata": {},
     "output_type": "execute_result"
    }
   ],
   "source": [
    "problem_1_method_2(list_of_numbers, k)"
   ]
  },
  {
   "cell_type": "markdown",
   "metadata": {},
   "source": [
    "# 002 - Product of array except self\n",
    "\n",
    "Given an array of integers, return a new array such that each element at index i of the new array is the product of all the numbers in the original array except the one at i.\n",
    "\n",
    "For example, if our input was [1, 2, 3, 4, 5], the expected output would be [120, 60, 40, 30, 24]. If our input was [3, 2, 1], the expected output would be [2, 3, 6].\n",
    "\n",
    "Follow-up: what if you can't use division?"
   ]
  },
  {
   "cell_type": "code",
   "execution_count": 13,
   "metadata": {},
   "outputs": [],
   "source": [
    "# Bruntforce method O(n^2)\n",
    "\n",
    "def product_of_array(nums):\n",
    "\n",
    "    output = []\n",
    "    for i in nums:\n",
    "        temp = 1\n",
    "        for j in nums:\n",
    "            if i != j:\n",
    "                temp *= j\n",
    "        output.append(temp)\n",
    "    return output\n"
   ]
  },
  {
   "cell_type": "code",
   "execution_count": 17,
   "metadata": {},
   "outputs": [],
   "source": [
    "# O(n)\n",
    "# identify the total product of the array and divide each element with the total product of array \n",
    "# result in product of array expect itself\n",
    "\n",
    "def product_of_array_2(nums):\n",
    "\n",
    "    total = 1\n",
    "    for i in nums:\n",
    "        total *= i\n",
    "    \n",
    "    output = []\n",
    "    for i in nums:\n",
    "        output.append(total//i)\n",
    "    \n",
    "    return output\n"
   ]
  },
  {
   "cell_type": "code",
   "execution_count": null,
   "metadata": {},
   "outputs": [],
   "source": [
    "output = [1,1,1,1,1] # based on example\n",
    "nums = [1, 2, 3, 4, 5]\n",
    "# Prefix\n",
    "prefix = 1\n",
    "# so 5 iteration needs to be done\n",
    "output[0] = prefix # [1, 1, 1, 1, 1]\n",
    "prefix *= nums[0] # prefix = 1\n",
    "output[1] = prefix # [1, 1, 1, 1, 1]\n",
    "prefix *= nums[1] # prefix = 2\n",
    "output[2] = prefix # [1, 1, 2, 1, 1]\n",
    "prefix *= nums[2] # prefix = 6\n",
    "output[3] = prefix # [1, 1, 2, 6, 1]\n",
    "prefix *= nums[3] # prefix = 24\n",
    "output[4] = prefix # [1, 1, 2, 6, 24]\n",
    "prefix *= nums[4] # prefix = 120\n",
    "# end of prefix loop\n",
    "# Reverse\n",
    "suffix = 1\n",
    "output[4] *= suffix # [1, 1, 2, 6, 24]\n",
    "suffix *= nums[4] # 5\n",
    "output[3] *= suffix # [1, 1, 2, 30, 24]\n",
    "suffix *= nums[3] # 20\n",
    "output[2] *= suffix # [1, 1, 40, 30, 24]\n",
    "suffix *= nums[2] # 60\n",
    "output[1] *= suffix # [1, 60, 40, 30, 24]\n",
    "suffix *= nums[1] # 120\n",
    "output[0] *= suffix # # [120, 60, 60, 30, 24]\n",
    "suffix *= nums[0]\n",
    "\n",
    "\n"
   ]
  },
  {
   "cell_type": "code",
   "execution_count": 30,
   "metadata": {},
   "outputs": [],
   "source": [
    "# O(n) without division\n",
    "\n",
    "def product_of_array_3(nums):\n",
    "\n",
    "    output = [1] * len(nums)\n",
    "\n",
    "    prefix = 1\n",
    "    for i in range(len(nums)):\n",
    "        output[i] = prefix\n",
    "        prefix *= nums[i]\n",
    "    \n",
    "\n",
    "    suffix = 1\n",
    "    for i in range(len(nums) - 1,-1, -1 ):\n",
    "        output[i] *= suffix\n",
    "        suffix *= nums[i]\n",
    "    \n",
    "    return output"
   ]
  },
  {
   "cell_type": "code",
   "execution_count": 31,
   "metadata": {},
   "outputs": [
    {
     "data": {
      "text/plain": [
       "[120, 60, 40, 30, 24]"
      ]
     },
     "execution_count": 31,
     "metadata": {},
     "output_type": "execute_result"
    }
   ],
   "source": [
    "nums = [1, 2, 3, 4, 5]\n",
    "\n",
    "product_of_array_3(nums)"
   ]
  },
  {
   "cell_type": "markdown",
   "metadata": {},
   "source": [
    "# 003 - Serialize and Deserialize Binary Tree\n",
    "\n",
    "Given the root to a binary tree, implement serialize(root), which serializes the tree into a string, \n",
    "and deserialize(s), which deserializes the string back into the tree.\n",
    "\n",
    "For example, given the following Node class\n",
    "\n",
    "```\n",
    "class Node:\n",
    "    def __init__(self, val, left=None, right=None):\n",
    "        self.val = val\n",
    "        self.left = left\n",
    "        self.right = right\n",
    "```\n",
    "\n",
    "\n",
    "The following test should pass:\n",
    "\n",
    "```\n",
    "node = Node('root', Node('left', Node('left.left')), Node('right'))\n",
    "assert deserialize(serialize(node)).left.left.val == 'left.left'\n",
    "```"
   ]
  },
  {
   "cell_type": "code",
   "execution_count": 33,
   "metadata": {},
   "outputs": [],
   "source": [
    "# There are so many ways to deal with this problem such as depth first serach, breath search first etc.,\n",
    "# Pre order traversel,\n",
    "# First take a root node then go through left children node until the end of the left node then go through the righ side node\n",
    "\n",
    "class Node:\n",
    "\n",
    "    def __init__(self, val, left=None, right=None):\n",
    "        self.val = val\n",
    "        self.left = left\n",
    "        self.right = right\n",
    "\n",
    "\n",
    "\n",
    "class code:\n",
    "\n",
    "    def serialize(self, root):\n",
    "\n",
    "        result = [] # to save the string\n",
    "        def dfs(node):\n",
    "\n",
    "            if not node:\n",
    "                result.append(\"N\")\n",
    "                return\n",
    "            result.append(str(node.val))\n",
    "            dfs(node.left)\n",
    "            dfs(node.right)\n",
    "        \n",
    "        dfs(root)\n",
    "        return \",\".join(result)\n",
    "\n",
    "    def deserialize(self, data):\n",
    "\n",
    "        values = data.split(\",\")\n",
    "\n",
    "        self.i = 0\n",
    "\n",
    "        def dfs():\n",
    "\n",
    "            if values[self.i] == \"N\":\n",
    "                self.i += 1\n",
    "                return None\n",
    "            \n",
    "            node = Node(int(values[self.i]))\n",
    "            self.i += 1\n",
    "            node.left = dfs()\n",
    "            node.right = dfs()\n",
    "            return node\n",
    "        \n",
    "        return dfs()\n",
    "\n"
   ]
  },
  {
   "cell_type": "markdown",
   "metadata": {},
   "source": [
    "# 004 - First missing Positive\n",
    "\n",
    "Given an array of integers, find the first missing positive integer in linear time and constant space.\n",
    "In other words, find the lowest positive integer that does not exist in the array. \n",
    "The array can contain duplicates and negative numbers as well.\n",
    "\n",
    "For example, the input [3, 4, -1, 1] should give 2. The input [1, 2, 0] should give 3.\n",
    "\n",
    "You can modify the input array in-place."
   ]
  },
  {
   "cell_type": "code",
   "execution_count": 69,
   "metadata": {},
   "outputs": [],
   "source": [
    "# sort array \n",
    "# make sure all the numbers are positve \n",
    "# if first number is 1 return the next poitive number which is not present on the list orher wise return 1\n",
    "# the answer always between [1... len(n)+1]\n",
    "\n",
    "def first_missing_positive(arr):\n",
    "\n",
    "    array_of_values = {}\n",
    "\n",
    "    for i, v in enumerate(arr):\n",
    "        array_of_values[v] = i\n",
    "    \n",
    "    n = 1\n",
    "    for i in range(1, len(arr)+1):\n",
    "        if i in array_of_values and i == n:\n",
    "            n += 1\n",
    "\n",
    "    return n\n",
    "    \n",
    "            "
   ]
  },
  {
   "cell_type": "code",
   "execution_count": 73,
   "metadata": {},
   "outputs": [],
   "source": [
    "def first_missing_positive_2(nums):\n",
    "\n",
    "    nums.sort()\n",
    "    n=1\n",
    "    for i in nums:\n",
    "        if i > 0 and i == n:\n",
    "            n+= 1\n",
    "    \n",
    "    return n\n",
    "\n",
    "    \n",
    "    "
   ]
  },
  {
   "cell_type": "code",
   "execution_count": 74,
   "metadata": {},
   "outputs": [
    {
     "data": {
      "text/plain": [
       "2"
      ]
     },
     "execution_count": 74,
     "metadata": {},
     "output_type": "execute_result"
    }
   ],
   "source": [
    "first_missing_positive_2([3, 4, -1, 1])"
   ]
  },
  {
   "cell_type": "markdown",
   "metadata": {},
   "source": [
    "# 005 - Jane Street - Medium\n",
    "\n",
    "cons(a, b) constructs a pair, and car(pair) and cdr(pair) returns the first and last element of that pair. \n",
    "For example, car(cons(3, 4)) returns 3, and cdr(cons(3, 4)) returns 4.\n",
    "\n",
    "Given this implementation of cons:\n",
    "\n",
    "def cons(a, b):\n",
    "    def pair(f):\n",
    "        return f(a, b)\n",
    "    return pair\n",
    "\n",
    "Implement car and cdr"
   ]
  },
  {
   "cell_type": "code",
   "execution_count": null,
   "metadata": {},
   "outputs": [],
   "source": []
  },
  {
   "cell_type": "markdown",
   "metadata": {},
   "source": [
    "# 006 - Google - Hard\n",
    "\n",
    "An XOR linked list is a more memory efficient doubly linked list. \n",
    "Instead of each node holding next and prev fields, it holds a field named both,\n",
    "which is an XOR of the next node and the previous node. Implement an XOR linked list;\n",
    "it has an add(element) which adds the element to the end, and a get(index) which returns the node at index.\n",
    "\n",
    "If using a language that has no pointers (such as Python),\n",
    "you can assume you have access to get_pointer and dereference_pointer functions that converts between nodes and memory addresses."
   ]
  },
  {
   "cell_type": "code",
   "execution_count": null,
   "metadata": {},
   "outputs": [],
   "source": []
  },
  {
   "cell_type": "markdown",
   "metadata": {},
   "source": [
    "# 007 - Facebook - Medium\n",
    "\n",
    "Given the mapping a = 1, b = 2, ... z = 26, and an encoded message, count the number of ways it can be decoded.\n",
    "\n",
    "For example, the message '111' would give 3, since it could be decoded as 'aaa', 'ka', and 'ak'.\n",
    "\n",
    "You can assume that the messages are decodable. For example, '001' is not allowed."
   ]
  },
  {
   "cell_type": "code",
   "execution_count": null,
   "metadata": {},
   "outputs": [],
   "source": []
  },
  {
   "cell_type": "markdown",
   "metadata": {},
   "source": [
    "# 008 - Google - Easy\n",
    "\n",
    "This problem was asked by Google.\n",
    "\n",
    "A unival tree (which stands for \"universal value\") is a tree where all nodes under it have the same value.\n",
    "\n",
    "Given the root to a binary tree, count the number of unival subtrees.\n",
    "\n",
    "For example, the following tree has 5 unival subtrees:\n",
    "\n",
    "   0\n",
    "  / \\\n",
    " 1   0\n",
    "    / \\\n",
    "   1   0\n",
    "  / \\\n",
    " 1   1"
   ]
  },
  {
   "cell_type": "code",
   "execution_count": null,
   "metadata": {},
   "outputs": [],
   "source": []
  },
  {
   "cell_type": "markdown",
   "metadata": {},
   "source": [
    "# 009 - Airbnb - Hard\n",
    "\n",
    "Given a list of integers, write a function that returns the largest sum of non-adjacent numbers. Numbers can be 0 or negative.\n",
    "\n",
    "For example, [2, 4, 6, 2, 5] should return 13, since we pick 2, 6, and 5. [5, 1, 1, 5] should return 10, since we pick 5 and 5.\n",
    "\n",
    "Follow-up: Can you do this in O(N) time and constant space?"
   ]
  },
  {
   "cell_type": "markdown",
   "metadata": {},
   "source": []
  },
  {
   "cell_type": "markdown",
   "metadata": {},
   "source": [
    "# 010 - Apple - Medium\n",
    "\n",
    "Implement a job scheduler which takes in a function f and an integer n, and calls f after n milliseconds."
   ]
  },
  {
   "cell_type": "markdown",
   "metadata": {},
   "source": []
  }
 ],
 "metadata": {
  "kernelspec": {
   "display_name": "Python 3.9.6 64-bit",
   "language": "python",
   "name": "python3"
  },
  "language_info": {
   "codemirror_mode": {
    "name": "ipython",
    "version": 3
   },
   "file_extension": ".py",
   "mimetype": "text/x-python",
   "name": "python",
   "nbconvert_exporter": "python",
   "pygments_lexer": "ipython3",
   "version": "3.9.6"
  },
  "orig_nbformat": 4,
  "vscode": {
   "interpreter": {
    "hash": "3b7474bc3c2eed525db895a92b1202ec6fca91aecedd707e7e54f179eae66967"
   }
  }
 },
 "nbformat": 4,
 "nbformat_minor": 2
}
